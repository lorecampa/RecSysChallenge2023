{
 "cells": [
  {
   "cell_type": "markdown",
   "metadata": {},
   "source": [
    "# Pipeline"
   ]
  },
  {
   "cell_type": "code",
   "execution_count": null,
   "metadata": {},
   "outputs": [],
   "source": [
    "import scipy.sparse as sps\n",
    "from Builder import Builder\n",
    "from Data_manager.split_functions.split_train_validation_random_holdout import split_train_in_two_percentage_global_sample, split_train_in_two_percentage_global_sample_k_fold\n",
    "from Recommenders.XGboostRecommender import XGboostRecommender\n",
    "import pickle\n",
    "from Evaluation.Evaluator import EvaluatorHoldout\n",
    "from sklearn.model_selection import KFold\n",
    "import numpy as np\n",
    "import pandas as pd\n",
    "from tqdm import tqdm\n",
    "\n",
    "\n",
    "saved_urm_path = 'saved_models'\n",
    "\n",
    "URM = sps.load_npz(f'{saved_urm_path}/URM.npz')\n",
    "URM_train = sps.load_npz(f'{saved_urm_path}/URM_train.npz')\n",
    "URM_val = sps.load_npz(f'{saved_urm_path}/URM_val.npz')\n",
    "URM_test = sps.load_npz(f'{saved_urm_path}/URM_test.npz')\n",
    "eval = EvaluatorHoldout(URM_val, cutoff_list=[10])\n",
    "etest = EvaluatorHoldout(URM_test, cutoff_list=[10])"
   ]
  },
  {
   "cell_type": "markdown",
   "metadata": {},
   "source": [
    "# Train"
   ]
  },
  {
   "cell_type": "code",
   "execution_count": null,
   "metadata": {},
   "outputs": [],
   "source": [
    "load_model_path = f'{saved_urm_path}/train'\n",
    "xgboost = XGboostRecommender(URM_train, URM_val, load_model_path=load_model_path, categorical_method=None)"
   ]
  },
  {
   "cell_type": "code",
   "execution_count": null,
   "metadata": {},
   "outputs": [],
   "source": [
    "hs={'n_estimators': 22, 'learning_rate': 0.20846188322980433, 'reg_alpha': 0.0001673396406118902, 'reg_lambda': 0.26168707544035263, 'max_depth': 7, 'max_leaves': 15, 'grow_policy': 'lossguide'}"
   ]
  },
  {
   "cell_type": "code",
   "execution_count": null,
   "metadata": {},
   "outputs": [],
   "source": [
    "xgboost.fit(**hs, cutoff=35)"
   ]
  },
  {
   "cell_type": "code",
   "execution_count": null,
   "metadata": {},
   "outputs": [],
   "source": [
    "xgboost.plot_importance()"
   ]
  },
  {
   "cell_type": "code",
   "execution_count": null,
   "metadata": {},
   "outputs": [],
   "source": [
    "result_df, _ = etest.evaluateRecommender(xgboost)\n",
    "result_df['MAP'][10]"
   ]
  },
  {
   "cell_type": "markdown",
   "metadata": {},
   "source": [
    "# Train Val"
   ]
  },
  {
   "cell_type": "code",
   "execution_count": null,
   "metadata": {},
   "outputs": [],
   "source": [
    "load_model_path = f'{saved_urm_path}/train_val'\n",
    "xgboost_final = XGboostRecommender(URM_train + URM_val, URM_test, load_model_path=load_model_path, categorical_method=None)"
   ]
  },
  {
   "cell_type": "code",
   "execution_count": null,
   "metadata": {},
   "outputs": [],
   "source": [
    "xgboost_final.fit(**hs, cutoff=35)"
   ]
  },
  {
   "cell_type": "code",
   "execution_count": null,
   "metadata": {},
   "outputs": [],
   "source": [
    "xgboost_final.plot_importance()"
   ]
  },
  {
   "cell_type": "code",
   "execution_count": null,
   "metadata": {},
   "outputs": [],
   "source": [
    "result_df, _ = etest.evaluateRecommender(xgboost_final)\n",
    "result_df['MAP'][10]"
   ]
  },
  {
   "cell_type": "code",
   "execution_count": null,
   "metadata": {},
   "outputs": [],
   "source": [
    "xgboost_final.prepare_to_submit(URM, cutoff=35, load_model_path='saved_models/train_val_test')"
   ]
  },
  {
   "cell_type": "code",
   "execution_count": null,
   "metadata": {},
   "outputs": [],
   "source": [
    "builder = Builder()\n",
    "builder.preprocess()\n",
    "df_submit = builder.prepare_sub(xgboost_final)\n",
    "builder.create_sub(df_submit, file_name='xgboost_final')"
   ]
  }
 ],
 "metadata": {
  "kernelspec": {
   "display_name": "RecSysFramework",
   "language": "python",
   "name": "python3"
  },
  "language_info": {
   "codemirror_mode": {
    "name": "ipython",
    "version": 3
   },
   "file_extension": ".py",
   "mimetype": "text/x-python",
   "name": "python",
   "nbconvert_exporter": "python",
   "pygments_lexer": "ipython3",
   "version": "3.8.18"
  }
 },
 "nbformat": 4,
 "nbformat_minor": 2
}
