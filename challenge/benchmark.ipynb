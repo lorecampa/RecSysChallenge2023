{
 "cells": [
  {
   "cell_type": "code",
   "execution_count": 1,
   "metadata": {},
   "outputs": [
    {
     "name": "stderr",
     "output_type": "stream",
     "text": [
      "/Users/lorecampa/anaconda3/envs/RecSysFramework/lib/python3.8/site-packages/lightfm/_lightfm_fast.py:9: UserWarning: LightFM was compiled without OpenMP support. Only a single thread will be used.\n",
      "  warnings.warn(\n"
     ]
    },
    {
     "name": "stdout",
     "output_type": "stream",
     "text": [
      "EvaluatorHoldout: Ignoring 2650 (21.0%) Users that have less than 1 test interactions\n",
      "EvaluatorHoldout: Ignoring 2136 (16.9%) Users that have less than 1 test interactions\n"
     ]
    }
   ],
   "source": [
    "import scipy.sparse as sps\n",
    "from Builder import Builder\n",
    "from Data_manager.split_functions.split_train_validation_random_holdout import split_train_in_two_percentage_global_sample, split_train_in_two_percentage_global_sample_k_fold\n",
    "from Recommenders.XGboostRecommender import XGboostRecommender\n",
    "import pickle\n",
    "from Evaluation.Evaluator import EvaluatorHoldout\n",
    "from sklearn.model_selection import KFold\n",
    "import numpy as np\n",
    "import pandas as pd\n",
    "from tqdm import tqdm\n",
    "from Recommenders.GeneralizedLinearHybridRecommender import GeneralizedLinearHybridRecommender\n",
    "from Recommenders.GraphBased.P3alphaRecommender import P3alphaRecommender\n",
    "from Recommenders.GraphBased.RP3betaRecommender import RP3betaRecommender\n",
    "from Recommenders.KNN.ItemKNNCFRecommender import ItemKNNCFRecommender\n",
    "from Recommenders.KNN.ItemKNNSimilarityHybridRecommender import ItemKNNSimilarityHybridRecommender\n",
    "from Recommenders.KNN.UserKNNCFRecommender import UserKNNCFRecommender\n",
    "from Recommenders.MatrixFactorization.IALSRecommender import IALSRecommender\n",
    "from Recommenders.MatrixFactorization.NMFRecommender import NMFRecommender\n",
    "from Recommenders.Neural.MultVAERecommender import MultVAERecommender_OptimizerMask as MultVAERecommender\n",
    "from Recommenders.NonPersonalizedRecommender import TopPop\n",
    "from Recommenders.SLIM.SLIMElasticNetRecommender import MultiThreadSLIM_SLIMElasticNetRecommender, SLIMElasticNetRecommender\n",
    "from Recommenders.SLIM.Cython.SLIM_BPR_Cython import SLIM_BPR_Cython\n",
    "import pickle\n",
    "\n",
    "from Recommenders.ScoresHybridRecommender import ScoresHybridRecommender\n",
    "\n",
    "\n",
    "saved_urm_path = 'saved_models'\n",
    "saved_models_path = f'{saved_urm_path}/train_val'\n",
    "builder = Builder()\n",
    "builder.preprocess()\n",
    "\n",
    "URM = sps.load_npz(f'{saved_urm_path}/URM.npz')\n",
    "URM_train = sps.load_npz(f'{saved_urm_path}/URM_train.npz')\n",
    "URM_val = sps.load_npz(f'{saved_urm_path}/URM_val.npz')\n",
    "URM_train_val = URM_train + URM_val\n",
    "URM_test = sps.load_npz(f'{saved_urm_path}/URM_test.npz')\n",
    "eval = EvaluatorHoldout(URM_val, cutoff_list=[10, 35, 40])\n",
    "etest = EvaluatorHoldout(URM_test, cutoff_list=[10, 35, 40])\n",
    "\n",
    "with open('best_models_info.pickle', 'rb') as f:\n",
    "    best_models_info = pickle.load(f)\n",
    "    \n",
    "def evaluate(rec, validator=etest, metric='MAP', cutoff=10):\n",
    "    result_df, _ = validator.evaluateRecommender(rec)\n",
    "    return result_df[metric][cutoff]\n",
    "    "
   ]
  },
  {
   "cell_type": "code",
   "execution_count": 2,
   "metadata": {},
   "outputs": [
    {
     "name": "stdout",
     "output_type": "stream",
     "text": [
      "TopPopRecommender: URM Detected 225 ( 1.8%) users with no interactions.\n",
      "TopPopRecommender: URM Detected 116 ( 0.5%) items with no interactions.\n",
      "EvaluatorHoldout: Processed 10502 (100.0%) in 18.78 sec. Users per second: 559\n"
     ]
    },
    {
     "data": {
      "text/plain": [
       "0.011742921983114276"
      ]
     },
     "execution_count": 2,
     "metadata": {},
     "output_type": "execute_result"
    }
   ],
   "source": [
    "from Recommenders.NonPersonalizedRecommender import TopPop\n",
    "\n",
    "\n",
    "top_pop = TopPop(URM_train_val)\n",
    "top_pop.fit()\n",
    "evaluate(top_pop)"
   ]
  },
  {
   "cell_type": "code",
   "execution_count": 3,
   "metadata": {},
   "outputs": [
    {
     "name": "stdout",
     "output_type": "stream",
     "text": [
      "ItemKNNCFRecommender: URM Detected 225 ( 1.8%) users with no interactions.\n",
      "ItemKNNCFRecommender: URM Detected 116 ( 0.5%) items with no interactions.\n",
      "Similarity column 22222 (100.0%), 2823.83 column/sec. Elapsed time 7.87 sec\n",
      "EvaluatorHoldout: Processed 10502 (100.0%) in 16.26 sec. Users per second: 646\n"
     ]
    },
    {
     "data": {
      "text/plain": [
       "0.03773176613373752"
      ]
     },
     "execution_count": 3,
     "metadata": {},
     "output_type": "execute_result"
    }
   ],
   "source": [
    "from Recommenders.KNN.ItemKNNCFRecommender import ItemKNNCFRecommender\n",
    "\n",
    "item_knn= ItemKNNCFRecommender(URM_train_val)\n",
    "item_knn.fit(**best_models_info['ItemKNNCFRecommenderCrossValNDCG']['hs'])\n",
    "evaluate(item_knn)"
   ]
  },
  {
   "cell_type": "code",
   "execution_count": 4,
   "metadata": {},
   "outputs": [
    {
     "name": "stdout",
     "output_type": "stream",
     "text": [
      "UserKNNCFRecommender: URM Detected 225 ( 1.8%) users with no interactions.\n",
      "UserKNNCFRecommender: URM Detected 116 ( 0.5%) items with no interactions.\n",
      "Similarity column 12638 (100.0%), 2902.24 column/sec. Elapsed time 4.35 sec\n",
      "EvaluatorHoldout: Processed 10502 (100.0%) in 19.07 sec. Users per second: 551\n"
     ]
    },
    {
     "data": {
      "text/plain": [
       "0.03497897981639208"
      ]
     },
     "execution_count": 4,
     "metadata": {},
     "output_type": "execute_result"
    }
   ],
   "source": [
    "from Recommenders.KNN.UserKNNCFRecommender import UserKNNCFRecommender\n",
    "\n",
    "user_knn= UserKNNCFRecommender(URM_train_val)\n",
    "user_knn.fit(**best_models_info['UserKNNCFRecommenderCrossVal']['hs'])\n",
    "evaluate(user_knn)"
   ]
  },
  {
   "cell_type": "code",
   "execution_count": 5,
   "metadata": {},
   "outputs": [
    {
     "name": "stdout",
     "output_type": "stream",
     "text": [
      "P3alphaRecommender: URM Detected 225 ( 1.8%) users with no interactions.\n",
      "P3alphaRecommender: URM Detected 116 ( 0.5%) items with no interactions.\n",
      "P3alphaRecommender: Similarity column 22222 (100.0%), 5974.33 column/sec. Elapsed time 3.72 sec\n",
      "EvaluatorHoldout: Processed 10502 (100.0%) in 5.53 sec. Users per second: 1898\n"
     ]
    },
    {
     "data": {
      "text/plain": [
       "0.04794156744142517"
      ]
     },
     "execution_count": 5,
     "metadata": {},
     "output_type": "execute_result"
    }
   ],
   "source": [
    "from Recommenders.GraphBased.P3alphaRecommender import P3alphaRecommender\n",
    "from Recommenders.GraphBased.RP3betaRecommender import RP3betaRecommender\n",
    "\n",
    "p3alpha= P3alphaRecommender(URM_train_val)\n",
    "p3alpha.fit(**best_models_info['P3alphaRecommenderCrossVal']['hs'])\n",
    "evaluate(p3alpha)"
   ]
  },
  {
   "cell_type": "code",
   "execution_count": 6,
   "metadata": {},
   "outputs": [
    {
     "name": "stdout",
     "output_type": "stream",
     "text": [
      "RP3betaRecommender: URM Detected 225 ( 1.8%) users with no interactions.\n",
      "RP3betaRecommender: URM Detected 116 ( 0.5%) items with no interactions.\n",
      "RP3betaRecommender: Similarity column 22222 (100.0%), 5800.94 column/sec. Elapsed time 3.83 sec\n",
      "EvaluatorHoldout: Processed 10502 (100.0%) in 5.71 sec. Users per second: 1839\n"
     ]
    },
    {
     "data": {
      "text/plain": [
       "0.04899704289130172"
      ]
     },
     "execution_count": 6,
     "metadata": {},
     "output_type": "execute_result"
    }
   ],
   "source": [
    "rp3_beta = RP3betaRecommender(URM_train_val)\n",
    "rp3_beta.fit(**best_models_info['RP3betaRecommenderCrossVal']['hs'])\n",
    "evaluate(rp3_beta)"
   ]
  },
  {
   "cell_type": "code",
   "execution_count": 7,
   "metadata": {},
   "outputs": [
    {
     "name": "stdout",
     "output_type": "stream",
     "text": [
      "IALSRecommender: URM Detected 225 ( 1.8%) users with no interactions.\n",
      "IALSRecommender: URM Detected 116 ( 0.5%) items with no interactions.\n",
      "IALSRecommender: Loading model from file 'saved_models/train_valIALSRecommender'\n",
      "IALSRecommender: Loading complete\n",
      "EvaluatorHoldout: Processed 10502 (100.0%) in 10.22 sec. Users per second: 1028\n"
     ]
    },
    {
     "data": {
      "text/plain": [
       "0.03230756122038771"
      ]
     },
     "execution_count": 7,
     "metadata": {},
     "output_type": "execute_result"
    }
   ],
   "source": [
    "ials = IALSRecommender(URM_train_val)\n",
    "ials.load_model(f'{saved_models_path}')\n",
    "evaluate(ials)\n"
   ]
  },
  {
   "cell_type": "code",
   "execution_count": 10,
   "metadata": {},
   "outputs": [
    {
     "data": {
      "text/plain": [
       "(22222, 80)"
      ]
     },
     "execution_count": 10,
     "metadata": {},
     "output_type": "execute_result"
    }
   ],
   "source": [
    "ials.ITEM_factors.shape"
   ]
  },
  {
   "cell_type": "code",
   "execution_count": 8,
   "metadata": {},
   "outputs": [
    {
     "name": "stdout",
     "output_type": "stream",
     "text": [
      "MultVAERecommender: URM Detected 225 ( 1.8%) users with no interactions.\n",
      "MultVAERecommender: URM Detected 116 ( 0.5%) items with no interactions.\n",
      "MultVAERecommender: Loading model from file 'saved_models/train_val/MultVAERecommender'\n",
      "INFO:tensorflow:Restoring parameters from saved_models/train_val/MultVAERecommender/.session/session\n"
     ]
    },
    {
     "name": "stderr",
     "output_type": "stream",
     "text": [
      "2024-02-21 10:32:21.038833: I tensorflow/compiler/mlir/mlir_graph_optimization_pass.cc:375] MLIR V1 optimization pass is not enabled\n"
     ]
    },
    {
     "name": "stdout",
     "output_type": "stream",
     "text": [
      "MultVAERecommender: Loading complete\n",
      "EvaluatorHoldout: Processed 10502 (100.0%) in 6.13 sec. Users per second: 1712\n"
     ]
    },
    {
     "data": {
      "text/plain": [
       "0.03786835765220872"
      ]
     },
     "execution_count": 8,
     "metadata": {},
     "output_type": "execute_result"
    }
   ],
   "source": [
    "multvae = MultVAERecommender(URM_train_val)\n",
    "multvae.load_model(f'{saved_models_path}')\n",
    "evaluate(multvae)"
   ]
  },
  {
   "cell_type": "code",
   "execution_count": 9,
   "metadata": {},
   "outputs": [
    {
     "name": "stdout",
     "output_type": "stream",
     "text": [
      "SLIMElasticNetRecommender: URM Detected 225 ( 1.8%) users with no interactions.\n",
      "SLIMElasticNetRecommender: URM Detected 116 ( 0.5%) items with no interactions.\n",
      "SLIMElasticNetRecommender: Processed 21004 (94.5%) in 5.00 min. Items per second: 70.01\n",
      "SLIMElasticNetRecommender: Processed 22222 (100.0%) in 5.38 min. Items per second: 68.86\n",
      "EvaluatorHoldout: Processed 10502 (100.0%) in 4.80 sec. Users per second: 2190\n"
     ]
    },
    {
     "data": {
      "text/plain": [
       "0.05003893438286965"
      ]
     },
     "execution_count": 9,
     "metadata": {},
     "output_type": "execute_result"
    }
   ],
   "source": [
    "slim = SLIMElasticNetRecommender(URM_train_val)\n",
    "slim.fit(**best_models_info['SLIMElasticNetRecommenderCrossVal']['hs'])\n",
    "evaluate(slim)"
   ]
  },
  {
   "cell_type": "code",
   "execution_count": 10,
   "metadata": {},
   "outputs": [
    {
     "name": "stdout",
     "output_type": "stream",
     "text": [
      "SLIM_BPR_Recommender: URM Detected 225 ( 1.8%) users with no interactions.\n",
      "SLIM_BPR_Recommender: URM Detected 116 ( 0.5%) items with no interactions.\n",
      "Unable to read memory status: list index out of range\n",
      "SLIM_BPR_Recommender: Automatic selection of fastest train mode. Unable to get current RAM status, you may be using a non-Linux operating system. Using dense matrix.\n"
     ]
    },
    {
     "name": "stderr",
     "output_type": "stream",
     "text": [
      "/bin/sh: free: command not found\n"
     ]
    },
    {
     "name": "stdout",
     "output_type": "stream",
     "text": [
      "Processed 12638 (100.0%) in 0.94 sec. BPR loss is 4.42E-02. Sample per second: 13440\n",
      "SLIM_BPR_Recommender: Epoch 1 of 110. Elapsed time 0.13 sec\n",
      "Processed 12638 (100.0%) in 1.14 sec. BPR loss is 1.26E-01. Sample per second: 11066\n",
      "SLIM_BPR_Recommender: Epoch 2 of 110. Elapsed time 0.33 sec\n",
      "Processed 12638 (100.0%) in 0.34 sec. BPR loss is 2.13E-01. Sample per second: 37120\n",
      "SLIM_BPR_Recommender: Epoch 3 of 110. Elapsed time 0.53 sec\n",
      "Processed 12638 (100.0%) in 0.54 sec. BPR loss is 2.38E-01. Sample per second: 23528\n",
      "SLIM_BPR_Recommender: Epoch 4 of 110. Elapsed time 0.73 sec\n",
      "Processed 12638 (100.0%) in 0.72 sec. BPR loss is 3.03E-01. Sample per second: 17582\n",
      "SLIM_BPR_Recommender: Epoch 5 of 110. Elapsed time 0.91 sec\n",
      "Processed 12638 (100.0%) in 0.91 sec. BPR loss is 2.96E-01. Sample per second: 13811\n",
      "SLIM_BPR_Recommender: Epoch 6 of 110. Elapsed time 1.11 sec\n",
      "Processed 12638 (100.0%) in 1.14 sec. BPR loss is 4.46E-01. Sample per second: 11021\n",
      "SLIM_BPR_Recommender: Epoch 7 of 110. Elapsed time 1.34 sec\n",
      "Processed 12638 (100.0%) in 0.34 sec. BPR loss is 4.04E-01. Sample per second: 36899\n",
      "SLIM_BPR_Recommender: Epoch 8 of 110. Elapsed time 1.53 sec\n",
      "Processed 12638 (100.0%) in 0.53 sec. BPR loss is 4.51E-01. Sample per second: 23748\n",
      "SLIM_BPR_Recommender: Epoch 9 of 110. Elapsed time 1.72 sec\n",
      "Processed 12638 (100.0%) in 0.78 sec. BPR loss is 4.96E-01. Sample per second: 16157\n",
      "SLIM_BPR_Recommender: Epoch 10 of 110. Elapsed time 1.97 sec\n",
      "Processed 12638 (100.0%) in 1.00 sec. BPR loss is 5.04E-01. Sample per second: 12662\n",
      "SLIM_BPR_Recommender: Epoch 11 of 110. Elapsed time 2.20 sec\n",
      "Processed 12638 (100.0%) in 0.25 sec. BPR loss is 6.37E-01. Sample per second: 50666\n",
      "SLIM_BPR_Recommender: Epoch 12 of 110. Elapsed time 2.44 sec\n",
      "Processed 12638 (100.0%) in 0.62 sec. BPR loss is 5.85E-01. Sample per second: 20329\n",
      "SLIM_BPR_Recommender: Epoch 13 of 110. Elapsed time 2.81 sec\n",
      "Processed 12638 (100.0%) in 0.90 sec. BPR loss is 6.17E-01. Sample per second: 14002\n",
      "SLIM_BPR_Recommender: Epoch 14 of 110. Elapsed time 3.09 sec\n",
      "Processed 12638 (100.0%) in 1.14 sec. BPR loss is 6.47E-01. Sample per second: 11099\n",
      "SLIM_BPR_Recommender: Epoch 15 of 110. Elapsed time 3.33 sec\n",
      "Processed 12638 (100.0%) in 0.43 sec. BPR loss is 6.27E-01. Sample per second: 29573\n",
      "SLIM_BPR_Recommender: Epoch 16 of 110. Elapsed time 3.62 sec\n",
      "Processed 12638 (100.0%) in 0.73 sec. BPR loss is 6.52E-01. Sample per second: 17313\n",
      "SLIM_BPR_Recommender: Epoch 17 of 110. Elapsed time 3.92 sec\n",
      "Processed 12638 (100.0%) in 0.99 sec. BPR loss is 7.09E-01. Sample per second: 12704\n",
      "SLIM_BPR_Recommender: Epoch 18 of 110. Elapsed time 4.19 sec\n",
      "Processed 12638 (100.0%) in 1.29 sec. BPR loss is 7.78E-01. Sample per second: 9763\n",
      "SLIM_BPR_Recommender: Epoch 19 of 110. Elapsed time 4.49 sec\n",
      "Processed 12638 (100.0%) in 0.66 sec. BPR loss is 7.84E-01. Sample per second: 18951\n",
      "SLIM_BPR_Recommender: Epoch 20 of 110. Elapsed time 4.86 sec\n",
      "Processed 12638 (100.0%) in 0.99 sec. BPR loss is 7.81E-01. Sample per second: 12797\n",
      "SLIM_BPR_Recommender: Epoch 21 of 110. Elapsed time 5.18 sec\n",
      "Processed 12638 (100.0%) in 1.25 sec. BPR loss is 8.52E-01. Sample per second: 10134\n",
      "SLIM_BPR_Recommender: Epoch 22 of 110. Elapsed time 5.44 sec\n",
      "Processed 12638 (100.0%) in 0.54 sec. BPR loss is 8.36E-01. Sample per second: 23526\n",
      "SLIM_BPR_Recommender: Epoch 23 of 110. Elapsed time 5.73 sec\n",
      "Processed 12638 (100.0%) in 0.81 sec. BPR loss is 8.54E-01. Sample per second: 15506\n",
      "SLIM_BPR_Recommender: Epoch 24 of 110. Elapsed time 6.01 sec\n",
      "Processed 12638 (100.0%) in 1.20 sec. BPR loss is 8.55E-01. Sample per second: 10520\n",
      "SLIM_BPR_Recommender: Epoch 25 of 110. Elapsed time 6.39 sec\n",
      "Processed 12638 (100.0%) in 0.53 sec. BPR loss is 9.33E-01. Sample per second: 23635\n",
      "SLIM_BPR_Recommender: Epoch 26 of 110. Elapsed time 6.73 sec\n",
      "Processed 12638 (100.0%) in 0.83 sec. BPR loss is 9.18E-01. Sample per second: 15197\n",
      "SLIM_BPR_Recommender: Epoch 27 of 110. Elapsed time 7.03 sec\n",
      "Processed 12638 (100.0%) in 1.13 sec. BPR loss is 8.95E-01. Sample per second: 11158\n",
      "SLIM_BPR_Recommender: Epoch 28 of 110. Elapsed time 7.33 sec\n",
      "Processed 12638 (100.0%) in 0.36 sec. BPR loss is 1.09E+00. Sample per second: 34500\n",
      "SLIM_BPR_Recommender: Epoch 29 of 110. Elapsed time 7.56 sec\n",
      "Processed 12638 (100.0%) in 0.58 sec. BPR loss is 9.67E-01. Sample per second: 21930\n",
      "SLIM_BPR_Recommender: Epoch 30 of 110. Elapsed time 7.77 sec\n",
      "Processed 12638 (100.0%) in 0.80 sec. BPR loss is 1.04E+00. Sample per second: 15733\n",
      "SLIM_BPR_Recommender: Epoch 31 of 110. Elapsed time 8.00 sec\n",
      "Processed 12638 (100.0%) in 1.01 sec. BPR loss is 1.02E+00. Sample per second: 12523\n",
      "SLIM_BPR_Recommender: Epoch 32 of 110. Elapsed time 8.20 sec\n",
      "Processed 12638 (100.0%) in 0.23 sec. BPR loss is 1.07E+00. Sample per second: 53501\n",
      "SLIM_BPR_Recommender: Epoch 33 of 110. Elapsed time 8.43 sec\n",
      "Processed 12638 (100.0%) in 0.48 sec. BPR loss is 1.02E+00. Sample per second: 26502\n",
      "SLIM_BPR_Recommender: Epoch 34 of 110. Elapsed time 8.67 sec\n",
      "Processed 12638 (100.0%) in 0.74 sec. BPR loss is 1.08E+00. Sample per second: 17107\n",
      "SLIM_BPR_Recommender: Epoch 35 of 110. Elapsed time 8.93 sec\n",
      "Processed 12638 (100.0%) in 0.99 sec. BPR loss is 1.09E+00. Sample per second: 12810\n",
      "SLIM_BPR_Recommender: Epoch 36 of 110. Elapsed time 9.18 sec\n",
      "Processed 12638 (100.0%) in 1.20 sec. BPR loss is 1.18E+00. Sample per second: 10553\n",
      "SLIM_BPR_Recommender: Epoch 37 of 110. Elapsed time 9.39 sec\n",
      "Processed 12638 (100.0%) in 0.38 sec. BPR loss is 1.14E+00. Sample per second: 32847\n",
      "SLIM_BPR_Recommender: Epoch 38 of 110. Elapsed time 9.58 sec\n",
      "Processed 12638 (100.0%) in 0.55 sec. BPR loss is 1.16E+00. Sample per second: 23045\n",
      "SLIM_BPR_Recommender: Epoch 39 of 110. Elapsed time 9.74 sec\n",
      "Processed 12638 (100.0%) in 0.69 sec. BPR loss is 1.18E+00. Sample per second: 18219\n",
      "SLIM_BPR_Recommender: Epoch 40 of 110. Elapsed time 9.88 sec\n",
      "Processed 12638 (100.0%) in 0.84 sec. BPR loss is 1.13E+00. Sample per second: 15025\n",
      "SLIM_BPR_Recommender: Epoch 41 of 110. Elapsed time 10.03 sec\n",
      "Processed 12638 (100.0%) in 0.99 sec. BPR loss is 1.19E+00. Sample per second: 12757\n",
      "SLIM_BPR_Recommender: Epoch 42 of 110. Elapsed time 10.18 sec\n",
      "Processed 12638 (100.0%) in 1.14 sec. BPR loss is 1.18E+00. Sample per second: 11039\n",
      "SLIM_BPR_Recommender: Epoch 43 of 110. Elapsed time 10.34 sec\n",
      "Processed 12638 (100.0%) in 0.28 sec. BPR loss is 1.27E+00. Sample per second: 44729\n",
      "SLIM_BPR_Recommender: Epoch 44 of 110. Elapsed time 10.47 sec\n",
      "Processed 12638 (100.0%) in 0.43 sec. BPR loss is 1.23E+00. Sample per second: 29579\n",
      "SLIM_BPR_Recommender: Epoch 45 of 110. Elapsed time 10.62 sec\n",
      "Processed 12638 (100.0%) in 0.65 sec. BPR loss is 1.25E+00. Sample per second: 19533\n",
      "SLIM_BPR_Recommender: Epoch 46 of 110. Elapsed time 10.84 sec\n",
      "Processed 12638 (100.0%) in 0.83 sec. BPR loss is 1.25E+00. Sample per second: 15227\n",
      "SLIM_BPR_Recommender: Epoch 47 of 110. Elapsed time 11.02 sec\n",
      "Processed 12638 (100.0%) in 1.01 sec. BPR loss is 1.29E+00. Sample per second: 12450\n",
      "SLIM_BPR_Recommender: Epoch 48 of 110. Elapsed time 11.21 sec\n",
      "Processed 12638 (100.0%) in 0.17 sec. BPR loss is 1.30E+00. Sample per second: 72149\n",
      "SLIM_BPR_Recommender: Epoch 49 of 110. Elapsed time 11.37 sec\n",
      "Processed 12638 (100.0%) in 0.33 sec. BPR loss is 1.39E+00. Sample per second: 38486\n",
      "SLIM_BPR_Recommender: Epoch 50 of 110. Elapsed time 11.52 sec\n",
      "Processed 12638 (100.0%) in 0.49 sec. BPR loss is 1.33E+00. Sample per second: 25605\n",
      "SLIM_BPR_Recommender: Epoch 51 of 110. Elapsed time 11.69 sec\n",
      "Processed 12638 (100.0%) in 0.65 sec. BPR loss is 1.44E+00. Sample per second: 19467\n",
      "SLIM_BPR_Recommender: Epoch 52 of 110. Elapsed time 11.84 sec\n",
      "Processed 12638 (100.0%) in 0.82 sec. BPR loss is 1.39E+00. Sample per second: 15462\n",
      "SLIM_BPR_Recommender: Epoch 53 of 110. Elapsed time 12.01 sec\n",
      "Processed 12638 (100.0%) in 0.97 sec. BPR loss is 1.45E+00. Sample per second: 13080\n",
      "SLIM_BPR_Recommender: Epoch 54 of 110. Elapsed time 12.16 sec\n",
      "Processed 12638 (100.0%) in 1.11 sec. BPR loss is 1.37E+00. Sample per second: 11365\n",
      "SLIM_BPR_Recommender: Epoch 55 of 110. Elapsed time 12.30 sec\n",
      "Processed 12638 (100.0%) in 0.25 sec. BPR loss is 1.38E+00. Sample per second: 49240\n",
      "SLIM_BPR_Recommender: Epoch 56 of 110. Elapsed time 12.45 sec\n",
      "Processed 12638 (100.0%) in 0.41 sec. BPR loss is 1.53E+00. Sample per second: 31022\n",
      "SLIM_BPR_Recommender: Epoch 57 of 110. Elapsed time 12.60 sec\n",
      "Processed 12638 (100.0%) in 0.57 sec. BPR loss is 1.51E+00. Sample per second: 22275\n",
      "SLIM_BPR_Recommender: Epoch 58 of 110. Elapsed time 12.76 sec\n",
      "Processed 12638 (100.0%) in 0.73 sec. BPR loss is 1.51E+00. Sample per second: 17321\n",
      "SLIM_BPR_Recommender: Epoch 59 of 110. Elapsed time 12.92 sec\n",
      "Processed 12638 (100.0%) in 0.87 sec. BPR loss is 1.92E+00. Sample per second: 14492\n",
      "SLIM_BPR_Recommender: Epoch 60 of 110. Elapsed time 13.06 sec\n",
      "Processed 12638 (100.0%) in 1.03 sec. BPR loss is 1.54E+00. Sample per second: 12237\n",
      "SLIM_BPR_Recommender: Epoch 61 of 110. Elapsed time 13.22 sec\n",
      "Processed 12638 (100.0%) in 0.19 sec. BPR loss is 1.50E+00. Sample per second: 68086\n",
      "SLIM_BPR_Recommender: Epoch 62 of 110. Elapsed time 13.38 sec\n",
      "Processed 12638 (100.0%) in 0.34 sec. BPR loss is 1.61E+00. Sample per second: 36621\n",
      "SLIM_BPR_Recommender: Epoch 63 of 110. Elapsed time 13.54 sec\n",
      "Processed 12638 (100.0%) in 0.54 sec. BPR loss is 1.63E+00. Sample per second: 23580\n",
      "SLIM_BPR_Recommender: Epoch 64 of 110. Elapsed time 13.73 sec\n",
      "Processed 12638 (100.0%) in 0.93 sec. BPR loss is 1.53E+00. Sample per second: 13555\n",
      "SLIM_BPR_Recommender: Epoch 65 of 110. Elapsed time 14.13 sec\n",
      "Processed 12638 (100.0%) in 1.21 sec. BPR loss is 1.69E+00. Sample per second: 10436\n",
      "SLIM_BPR_Recommender: Epoch 66 of 110. Elapsed time 14.40 sec\n",
      "Processed 12638 (100.0%) in 0.42 sec. BPR loss is 1.60E+00. Sample per second: 30315\n",
      "SLIM_BPR_Recommender: Epoch 67 of 110. Elapsed time 14.61 sec\n",
      "Processed 12638 (100.0%) in 0.61 sec. BPR loss is 1.61E+00. Sample per second: 20557\n",
      "SLIM_BPR_Recommender: Epoch 68 of 110. Elapsed time 14.81 sec\n",
      "Processed 12638 (100.0%) in 0.81 sec. BPR loss is 1.66E+00. Sample per second: 15542\n",
      "SLIM_BPR_Recommender: Epoch 69 of 110. Elapsed time 15.00 sec\n",
      "Processed 12638 (100.0%) in 0.98 sec. BPR loss is 1.59E+00. Sample per second: 12846\n",
      "SLIM_BPR_Recommender: Epoch 70 of 110. Elapsed time 15.17 sec\n",
      "Processed 12638 (100.0%) in 1.18 sec. BPR loss is 1.62E+00. Sample per second: 10713\n",
      "SLIM_BPR_Recommender: Epoch 71 of 110. Elapsed time 15.37 sec\n",
      "Processed 12638 (100.0%) in 0.36 sec. BPR loss is 1.70E+00. Sample per second: 35007\n",
      "SLIM_BPR_Recommender: Epoch 72 of 110. Elapsed time 15.55 sec\n",
      "Processed 12638 (100.0%) in 0.57 sec. BPR loss is 1.68E+00. Sample per second: 22338\n",
      "SLIM_BPR_Recommender: Epoch 73 of 110. Elapsed time 15.76 sec\n",
      "Processed 12638 (100.0%) in 0.79 sec. BPR loss is 1.63E+00. Sample per second: 16076\n",
      "SLIM_BPR_Recommender: Epoch 74 of 110. Elapsed time 15.98 sec\n",
      "Processed 12638 (100.0%) in 1.08 sec. BPR loss is 1.68E+00. Sample per second: 11684\n",
      "SLIM_BPR_Recommender: Epoch 75 of 110. Elapsed time 16.28 sec\n",
      "Processed 12638 (100.0%) in 0.38 sec. BPR loss is 1.70E+00. Sample per second: 33254\n",
      "SLIM_BPR_Recommender: Epoch 76 of 110. Elapsed time 16.57 sec\n",
      "Processed 12638 (100.0%) in 0.61 sec. BPR loss is 1.73E+00. Sample per second: 20516\n",
      "SLIM_BPR_Recommender: Epoch 77 of 110. Elapsed time 16.81 sec\n",
      "Processed 12638 (100.0%) in 0.85 sec. BPR loss is 1.83E+00. Sample per second: 14907\n",
      "SLIM_BPR_Recommender: Epoch 78 of 110. Elapsed time 17.04 sec\n",
      "Processed 12638 (100.0%) in 1.04 sec. BPR loss is 1.71E+00. Sample per second: 12181\n",
      "SLIM_BPR_Recommender: Epoch 79 of 110. Elapsed time 17.23 sec\n",
      "Processed 12638 (100.0%) in 0.25 sec. BPR loss is 1.76E+00. Sample per second: 51160\n",
      "SLIM_BPR_Recommender: Epoch 80 of 110. Elapsed time 17.44 sec\n",
      "Processed 12638 (100.0%) in 0.45 sec. BPR loss is 1.82E+00. Sample per second: 27967\n",
      "SLIM_BPR_Recommender: Epoch 81 of 110. Elapsed time 17.64 sec\n",
      "Processed 12638 (100.0%) in 0.63 sec. BPR loss is 1.78E+00. Sample per second: 20141\n",
      "SLIM_BPR_Recommender: Epoch 82 of 110. Elapsed time 17.82 sec\n",
      "Processed 12638 (100.0%) in 0.81 sec. BPR loss is 1.86E+00. Sample per second: 15595\n",
      "SLIM_BPR_Recommender: Epoch 83 of 110. Elapsed time 18.00 sec\n",
      "Processed 12638 (100.0%) in 0.97 sec. BPR loss is 1.81E+00. Sample per second: 13067\n",
      "SLIM_BPR_Recommender: Epoch 84 of 110. Elapsed time 18.16 sec\n",
      "Processed 12638 (100.0%) in 1.14 sec. BPR loss is 1.88E+00. Sample per second: 11038\n",
      "SLIM_BPR_Recommender: Epoch 85 of 110. Elapsed time 18.34 sec\n",
      "Processed 12638 (100.0%) in 0.31 sec. BPR loss is 1.86E+00. Sample per second: 41246\n",
      "SLIM_BPR_Recommender: Epoch 86 of 110. Elapsed time 18.50 sec\n",
      "Processed 12638 (100.0%) in 0.46 sec. BPR loss is 1.91E+00. Sample per second: 27165\n",
      "SLIM_BPR_Recommender: Epoch 87 of 110. Elapsed time 18.66 sec\n",
      "Processed 12638 (100.0%) in 0.62 sec. BPR loss is 1.78E+00. Sample per second: 20353\n",
      "SLIM_BPR_Recommender: Epoch 88 of 110. Elapsed time 18.81 sec\n",
      "Processed 12638 (100.0%) in 0.79 sec. BPR loss is 1.92E+00. Sample per second: 16040\n",
      "SLIM_BPR_Recommender: Epoch 89 of 110. Elapsed time 18.98 sec\n",
      "Processed 12638 (100.0%) in 0.95 sec. BPR loss is 1.92E+00. Sample per second: 13286\n",
      "SLIM_BPR_Recommender: Epoch 90 of 110. Elapsed time 19.14 sec\n",
      "Processed 12638 (100.0%) in 1.16 sec. BPR loss is 1.84E+00. Sample per second: 10903\n",
      "SLIM_BPR_Recommender: Epoch 91 of 110. Elapsed time 19.35 sec\n",
      "Processed 12638 (100.0%) in 0.44 sec. BPR loss is 1.98E+00. Sample per second: 28931\n",
      "SLIM_BPR_Recommender: Epoch 92 of 110. Elapsed time 19.63 sec\n",
      "Processed 12638 (100.0%) in 0.73 sec. BPR loss is 1.99E+00. Sample per second: 17344\n",
      "SLIM_BPR_Recommender: Epoch 93 of 110. Elapsed time 19.92 sec\n",
      "Processed 12638 (100.0%) in 0.97 sec. BPR loss is 1.95E+00. Sample per second: 12972\n",
      "SLIM_BPR_Recommender: Epoch 94 of 110. Elapsed time 20.17 sec\n",
      "Processed 12638 (100.0%) in 1.21 sec. BPR loss is 1.94E+00. Sample per second: 10413\n",
      "SLIM_BPR_Recommender: Epoch 95 of 110. Elapsed time 20.40 sec\n",
      "Processed 12638 (100.0%) in 0.43 sec. BPR loss is 2.03E+00. Sample per second: 29341\n",
      "SLIM_BPR_Recommender: Epoch 96 of 110. Elapsed time 20.62 sec\n",
      "Processed 12638 (100.0%) in 0.64 sec. BPR loss is 2.00E+00. Sample per second: 19879\n",
      "SLIM_BPR_Recommender: Epoch 97 of 110. Elapsed time 20.83 sec\n",
      "Processed 12638 (100.0%) in 1.12 sec. BPR loss is 1.99E+00. Sample per second: 11239\n",
      "SLIM_BPR_Recommender: Epoch 98 of 110. Elapsed time 21.32 sec\n",
      "Processed 12638 (100.0%) in 0.41 sec. BPR loss is 2.09E+00. Sample per second: 31099\n",
      "SLIM_BPR_Recommender: Epoch 99 of 110. Elapsed time 21.60 sec\n",
      "Processed 12638 (100.0%) in 0.63 sec. BPR loss is 2.02E+00. Sample per second: 20014\n",
      "SLIM_BPR_Recommender: Epoch 100 of 110. Elapsed time 21.82 sec\n",
      "Processed 12638 (100.0%) in 0.87 sec. BPR loss is 1.99E+00. Sample per second: 14505\n",
      "SLIM_BPR_Recommender: Epoch 101 of 110. Elapsed time 22.06 sec\n",
      "Processed 12638 (100.0%) in 1.12 sec. BPR loss is 2.04E+00. Sample per second: 11248\n",
      "SLIM_BPR_Recommender: Epoch 102 of 110. Elapsed time 22.32 sec\n",
      "Processed 12638 (100.0%) in 0.39 sec. BPR loss is 2.01E+00. Sample per second: 32476\n",
      "SLIM_BPR_Recommender: Epoch 103 of 110. Elapsed time 22.58 sec\n",
      "Processed 12638 (100.0%) in 0.66 sec. BPR loss is 1.96E+00. Sample per second: 19205\n",
      "SLIM_BPR_Recommender: Epoch 104 of 110. Elapsed time 22.85 sec\n",
      "Processed 12638 (100.0%) in 0.90 sec. BPR loss is 2.11E+00. Sample per second: 14024\n",
      "SLIM_BPR_Recommender: Epoch 105 of 110. Elapsed time 23.09 sec\n",
      "Processed 12638 (100.0%) in 1.13 sec. BPR loss is 2.01E+00. Sample per second: 11132\n",
      "SLIM_BPR_Recommender: Epoch 106 of 110. Elapsed time 23.33 sec\n",
      "Processed 12638 (100.0%) in 0.40 sec. BPR loss is 2.02E+00. Sample per second: 31363\n",
      "SLIM_BPR_Recommender: Epoch 107 of 110. Elapsed time 23.59 sec\n",
      "Processed 12638 (100.0%) in 0.72 sec. BPR loss is 2.11E+00. Sample per second: 17481\n",
      "SLIM_BPR_Recommender: Epoch 108 of 110. Elapsed time 23.91 sec\n",
      "Processed 12638 (100.0%) in 0.97 sec. BPR loss is 2.20E+00. Sample per second: 13048\n",
      "SLIM_BPR_Recommender: Epoch 109 of 110. Elapsed time 24.16 sec\n",
      "Processed 12638 (100.0%) in 1.26 sec. BPR loss is 2.20E+00. Sample per second: 9994\n",
      "SLIM_BPR_Recommender: Epoch 110 of 110. Elapsed time 24.46 sec\n",
      "SLIM_BPR_Recommender: Terminating at epoch 110. Elapsed time 29.90 sec\n",
      "Deallocating Cython objects\n",
      "EvaluatorHoldout: Processed 10502 (100.0%) in 2.26 sec. Users per second: 4641\n"
     ]
    },
    {
     "data": {
      "text/plain": [
       "0.038933872761953675"
      ]
     },
     "execution_count": 10,
     "metadata": {},
     "output_type": "execute_result"
    }
   ],
   "source": [
    "slim_bpr = SLIM_BPR_Cython(URM_train_val)\n",
    "slim_bpr.fit(**best_models_info['SLIM_BPR']['hs'])\n",
    "evaluate(slim_bpr)"
   ]
  },
  {
   "cell_type": "code",
   "execution_count": 12,
   "metadata": {},
   "outputs": [
    {
     "name": "stdout",
     "output_type": "stream",
     "text": [
      "ScoresHybridRecommender: URM Detected 225 ( 1.8%) users with no interactions.\n",
      "ScoresHybridRecommender: URM Detected 116 ( 0.5%) items with no interactions.\n",
      "EvaluatorHoldout: Processed 10502 (100.0%) in 5.63 sec. Users per second: 1865\n"
     ]
    },
    {
     "data": {
      "text/plain": [
       "0.051042900369695804"
      ]
     },
     "execution_count": 12,
     "metadata": {},
     "output_type": "execute_result"
    }
   ],
   "source": [
    "hybrid_scores_slim_rp3_map = ScoresHybridRecommender(URM_train_val, slim, rp3_beta)\n",
    "hybrid_scores_slim_rp3_map.fit(**best_models_info['ScoresHybridRecommenderCrossVal']['hs'])\n",
    "evaluate(hybrid_scores_slim_rp3_map)"
   ]
  },
  {
   "cell_type": "code",
   "execution_count": 25,
   "metadata": {},
   "outputs": [
    {
     "name": "stdout",
     "output_type": "stream",
     "text": [
      "SLIMElasticNetRecommender: URM Detected 225 ( 1.8%) users with no interactions.\n",
      "SLIMElasticNetRecommender: URM Detected 116 ( 0.5%) items with no interactions.\n",
      "SLIMElasticNetRecommender: Loading model from file 'saved_models/train_valSLIMElasticNetRecommenderCrossValRecall40'\n",
      "SLIMElasticNetRecommender: Loading complete\n",
      "SLIMElasticNetRecommender: URM Detected 225 ( 1.8%) users with no interactions.\n",
      "SLIMElasticNetRecommender: URM Detected 116 ( 0.5%) items with no interactions.\n",
      "SLIMElasticNetRecommender: Loading model from file 'saved_models/train_valRP3betaRecommenderCrossValRecall40'\n",
      "SLIMElasticNetRecommender: Loading complete\n",
      "ScoresHybridRecommender: URM Detected 225 ( 1.8%) users with no interactions.\n",
      "ScoresHybridRecommender: URM Detected 116 ( 0.5%) items with no interactions.\n",
      "EvaluatorHoldout: Processed 10502 (100.0%) in 9.01 sec. Users per second: 1165\n",
      "EvaluatorHoldout: Processed 10502 (100.0%) in 9.09 sec. Users per second: 1155\n",
      "EvaluatorHoldout: Processed 10502 (100.0%) in 5.52 sec. Users per second: 1902\n"
     ]
    },
    {
     "data": {
      "text/plain": [
       "(0.24885661208159643, 0.2422121339136158, 0.24156948706145084)"
      ]
     },
     "execution_count": 25,
     "metadata": {},
     "output_type": "execute_result"
    }
   ],
   "source": [
    "slim_recall = SLIMElasticNetRecommender(URM_train_val)\n",
    "slim_recall.load_model(f'{saved_models_path}', file_name='SLIMElasticNetRecommenderCrossValRecall40')\n",
    "rp3_beta_recall = SLIMElasticNetRecommender(URM_train_val)\n",
    "rp3_beta_recall.load_model(f'{saved_models_path}', file_name='RP3betaRecommenderCrossValRecall40')\n",
    "hybrid_scores_slim_rp3_recall = ScoresHybridRecommender(URM_train_val, slim_recall, rp3_beta_recall)\n",
    "hybrid_scores_slim_rp3_recall.fit(**best_models_info['ScoresHybridRecommenderCrossValRecall40']['hs'])\n",
    "evaluate(hybrid_scores_slim_rp3_recall, metric='RECALL', cutoff=35), evaluate(slim_recall, metric='RECALL', cutoff=35), evaluate(rp3_beta_recall, metric='RECALL', cutoff=35)"
   ]
  },
  {
   "cell_type": "code",
   "execution_count": null,
   "metadata": {},
   "outputs": [],
   "source": []
  }
 ],
 "metadata": {
  "kernelspec": {
   "display_name": "RecSysFramework",
   "language": "python",
   "name": "python3"
  },
  "language_info": {
   "codemirror_mode": {
    "name": "ipython",
    "version": 3
   },
   "file_extension": ".py",
   "mimetype": "text/x-python",
   "name": "python",
   "nbconvert_exporter": "python",
   "pygments_lexer": "ipython3",
   "version": "3.8.18"
  }
 },
 "nbformat": 4,
 "nbformat_minor": 2
}
